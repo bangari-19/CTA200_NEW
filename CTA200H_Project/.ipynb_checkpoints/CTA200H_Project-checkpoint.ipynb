{
 "cells": [
  {
   "cell_type": "code",
   "execution_count": 158,
   "metadata": {},
   "outputs": [],
   "source": [
    "import matplotlib.pyplot as plt\n",
    "import numpy as np\n",
    "import astropy\n",
    "from hmf import MassFunction\n",
    "from astropy import units as u\n",
    "from astropy.constants import c, k_B\n",
    "from astropy.cosmology import Planck13\n",
    "from scipy import integrate"
   ]
  },
  {
   "cell_type": "markdown",
   "metadata": {},
   "source": [
    "# Question 1: CO intensities at redshift 2.8"
   ]
  },
  {
   "cell_type": "code",
   "execution_count": 222,
   "metadata": {},
   "outputs": [],
   "source": [
    "mf = MassFunction(Mmin = 10.05, Mmax = 12.95, z=2.8, cosmo_model=Planck13) "
   ]
  },
  {
   "cell_type": "code",
   "execution_count": 160,
   "metadata": {},
   "outputs": [],
   "source": [
    "data_z2p8 = np.loadtxt(\"z2.8.txt\")"
   ]
  },
  {
   "cell_type": "code",
   "execution_count": 201,
   "metadata": {},
   "outputs": [],
   "source": [
    "h = Planck13.H0.value / 100\n",
    "H = Planck13.H(2.8)\n",
    "\n",
    "L_CO_10 = np.interp(mf.m / h, 10**data_z2p8[:,0], data_z2p8[:,2])*u.Lsun\n",
    "L_CO_21 = np.interp(mf.m / h, 10**data_z2p8[:,0], data_z2p8[:,3])*u.Lsun\n",
    "L_CO_32 = np.interp(mf.m / h, 10**data_z2p8[:,0], data_z2p8[:,4])*u.Lsun\n",
    "L_CO_43 = np.interp(mf.m / h, 10**data_z2p8[:,0], data_z2p8[:,5])*u.Lsun\n",
    "L_CO_54 = np.interp(mf.m / h, 10**data_z2p8[:,0], data_z2p8[:,6])*u.Lsun\n",
    "\n",
    "f_duty = np.interp(mf.m / h, 10**data_z2p8[:,0], data_z2p8[:,47])\n",
    "number_density = mf.dndm * h**4 / u.Msun / u.Mpc**3 \n",
    "halo_mass = mf.m * u.Msun / h\n",
    "\n",
    "v_CO_10 = 115.3*u.GHz\n",
    "v_CO_21 = 230.5*u.GHz\n",
    "v_CO_32 = 345.8*u.GHz\n",
    "v_CO_43 = 461.04*u.GHz\n",
    "v_CO_54 = 576.27*u.GHz"
   ]
  },
  {
   "cell_type": "code",
   "execution_count": 202,
   "metadata": {},
   "outputs": [],
   "source": [
    "# plt.scatter(mf.m, L_CO_10)\n",
    "# plt.xlabel('halo mass (M$_\\odot$)')\n",
    "# plt.ylabel('CO 1-0 luminosity (L$_\\odot$)')"
   ]
  },
  {
   "cell_type": "code",
   "execution_count": 203,
   "metadata": {},
   "outputs": [],
   "source": [
    "#plt.scatter(mf.m, mf.dndm)\n",
    "#plt.xscale('log')\n",
    "#plt.yscale('log')"
   ]
  },
  {
   "cell_type": "code",
   "execution_count": 204,
   "metadata": {},
   "outputs": [],
   "source": [
    "#plt.scatter(mf.m, mf.dndm*L_CO_01)\n",
    "#plt.xscale('log')\n",
    "#plt.yscale('log')\n",
    "\n",
    "# plt.loglog(mf.m, mf.dndm*L_CO_10, '.')\n",
    "# plt.xlabel('halo mass (M$_\\odot$)')\n",
    "# plt.ylabel('CO 1-0 luminosity (L$_\\odot$) ')"
   ]
  },
  {
   "cell_type": "code",
   "execution_count": 205,
   "metadata": {},
   "outputs": [
    {
     "name": "stdout",
     "output_type": "stream",
     "text": [
      "CO 1-0 intensity is 15.820134567652193 Jy\n",
      "CO 2-1 intensity is 79.13108210303439 Jy\n",
      "CO 3-2 intensity is 174.99200475629166 Jy\n",
      "CO 4-3 intensity is 265.1095875073241 Jy\n",
      "CO 5-4 intensity is 308.04047449005975 Jy\n"
     ]
    }
   ],
   "source": [
    "Intensity_CO_10 = (c / ((4*np.pi)*v_CO_10*H)) * np.trapz(f_duty*number_density*L_CO_10, halo_mass)\n",
    "Intensity_CO_21 = (c / ((4*np.pi)*v_CO_21*H)) * np.trapz(f_duty*number_density*L_CO_21, halo_mass)\n",
    "Intensity_CO_32 = (c / ((4*np.pi)*v_CO_32*H)) * np.trapz(f_duty*number_density*L_CO_32, halo_mass)\n",
    "Intensity_CO_43 = (c / ((4*np.pi)*v_CO_43*H)) * np.trapz(f_duty*number_density*L_CO_43, halo_mass)\n",
    "Intensity_CO_54 = (c / ((4*np.pi)*v_CO_54*H)) * np.trapz(f_duty*number_density*L_CO_54, halo_mass)\n",
    "\n",
    "print('CO 1-0 intensity is', Intensity_CO_10.to(u.Jy))\n",
    "print('CO 2-1 intensity is', Intensity_CO_21.to(u.Jy))\n",
    "print('CO 3-2 intensity is', Intensity_CO_32.to(u.Jy))\n",
    "print('CO 4-3 intensity is', Intensity_CO_43.to(u.Jy))\n",
    "print('CO 5-4 intensity is', Intensity_CO_54.to(u.Jy))"
   ]
  },
  {
   "cell_type": "code",
   "execution_count": 211,
   "metadata": {},
   "outputs": [
    {
     "name": "stdout",
     "output_type": "stream",
     "text": [
      "Temperature of CO 1-0 is 0.559302653153446 uK\n",
      "Temperature of CO 2-1 is 0.7000040713576537 uK\n",
      "Temperature of CO 3-2 is 0.6878021823036528 uK\n",
      "Temperature of CO 4-3 is 0.5861969326150206 uK\n",
      "Temperature of CO 5-4 is 0.43596445503736525 uK\n"
     ]
    }
   ],
   "source": [
    "# T_CO_10 = ((c**3*(1+2.8)**2)/(8*np.pi*k_B*v_CO_10**3*H))*np.trapz(f_duty*number_density*L_CO_10, halo_mass)\n",
    "\n",
    "def temp(Intensity_CO_J, v_CO_J):\n",
    "    return (Intensity_CO_J*c**2) / (2 * k_B * (v_CO_J**2 / (1+2.8)**2))\n",
    "\n",
    "print('Temperature of CO 1-0 is', temp(Intensity_CO_10, v_CO_10).to(u.uK))\n",
    "print('Temperature of CO 2-1 is', temp(Intensity_CO_21, v_CO_21).to(u.uK))\n",
    "print('Temperature of CO 3-2 is', temp(Intensity_CO_32, v_CO_32).to(u.uK))\n",
    "print('Temperature of CO 4-3 is', temp(Intensity_CO_43, v_CO_43).to(u.uK))\n",
    "print('Temperature of CO 5-4 is', temp(Intensity_CO_54, v_CO_54).to(u.uK))"
   ]
  },
  {
   "cell_type": "code",
   "execution_count": 212,
   "metadata": {},
   "outputs": [
    {
     "data": {
      "text/plain": [
       "Text(0, 0.5, 'ratio')"
      ]
     },
     "execution_count": 212,
     "metadata": {},
     "output_type": "execute_result"
    },
    {
     "data": {
      "image/png": "[encoded data removed]",
      "text/plain": [
       "<Figure size 432x288 with 1 Axes>"
      ]
     },
     "metadata": {
      "needs_background": "light"
     },
     "output_type": "display_data"
    }
   ],
   "source": [
    "J = np.array([1, 2, 3, 4, 5])\n",
    "\n",
    "T_CO_10 = temp(Intensity_CO_10, v_CO_10).to(u.uK)\n",
    "T_CO_21 = temp(Intensity_CO_21, v_CO_21).to(u.uK)\n",
    "T_CO_32 = temp(Intensity_CO_32, v_CO_32).to(u.uK)\n",
    "T_CO_43 = temp(Intensity_CO_43, v_CO_43).to(u.uK)\n",
    "T_CO_54 = temp(Intensity_CO_54, v_CO_54).to(u.uK)\n",
    "\n",
    "ratio = np.array([1, T_CO_21/T_CO_10, T_CO_32/T_CO_10, T_CO_43/T_CO_10, T_CO_54/T_CO_10])\n",
    "plt.plot(J, ratio, '.')\n",
    "plt.xlabel('J')\n",
    "plt.ylabel('ratio')"
   ]
  },
  {
   "cell_type": "code",
   "execution_count": 236,
   "metadata": {},
   "outputs": [
    {
     "data": {
      "text/plain": [
       "<matplotlib.legend.Legend at 0x7fa60fb3ae20>"
      ]
     },
     "execution_count": 236,
     "metadata": {},
     "output_type": "execute_result"
    },
    {
     "data": {
      "image/png": "[encoded data removed]",
      "text/plain": [
       "<Figure size 432x288 with 1 Axes>"
      ]
     },
     "metadata": {
      "needs_background": "light"
     },
     "output_type": "display_data"
    }
   ],
   "source": [
    "log_halo_mass = np.log10(mf.m / h)[::10]\n",
    "\n",
    "# J from 2,3,4,5,6\n",
    "\n",
    "def temp_and_Mmin(J, v_CO_J):\n",
    "    \n",
    "    T_CO_result = []\n",
    "    \n",
    "    for M_min in log_halo_mass:\n",
    "        \n",
    "        mf = MassFunction(Mmin = M_min, Mmax = 13.10896251, z=2.8, cosmo_model=Planck13)\n",
    "        \n",
    "        L_CO = np.interp(mf.m / h, 10**data_z2p8[:,0], data_z2p8[:,J])*u.Lsun\n",
    "        \n",
    "        f_duty = np.interp(mf.m / h, 10**data_z2p8[:,0], data_z2p8[:,47])\n",
    "        \n",
    "        number_density = mf.dndm * h**4 / u.Msun / u.Mpc**3 \n",
    "        halo_mass = mf.m * u.Msun / h\n",
    "        \n",
    "        Intensity_CO = ((c / ((4*np.pi)*v_CO_J*H)) * np.trapz(f_duty*number_density*L_CO, halo_mass)).to(u.Jy)\n",
    "        \n",
    "        T_CO = temp(Intensity_CO, v_CO_J).to(u.uK)\n",
    "        \n",
    "        T_CO_result.append(T_CO.value)\n",
    "        \n",
    "    return T_CO_result \n",
    "\n",
    "plt.plot(log_halo_mass, temp_and_Mmin(2, v_CO_10), label = 'CO 1-0')\n",
    "plt.plot(log_halo_mass, temp_and_Mmin(3, v_CO_21), label = 'CO 2-1')\n",
    "plt.plot(log_halo_mass, temp_and_Mmin(4, v_CO_32), label = 'CO 3-2')\n",
    "plt.plot(log_halo_mass, temp_and_Mmin(5, v_CO_43), label = 'CO 4-3')\n",
    "plt.plot(log_halo_mass, temp_and_Mmin(6, v_CO_54), label = 'CO 5-4')\n",
    "\n",
    "plt.xlabel('halo mass (M$_\\odot$)')\n",
    "plt.ylabel('temperature CO lines ($\\mu$K)')\n",
    "plt.legend()"
   ]
  },
  {
   "cell_type": "code",
   "execution_count": null,
   "metadata": {},
   "outputs": [],
   "source": []
  }
 ],
 "metadata": {
  "kernelspec": {
   "display_name": "Python 3",
   "language": "python",
   "name": "python3"
  },
  "language_info": {
   "codemirror_mode": {
    "name": "ipython",
    "version": 3
   },
   "file_extension": ".py",
   "mimetype": "text/x-python",
   "name": "python",
   "nbconvert_exporter": "python",
   "pygments_lexer": "ipython3",
   "version": "3.8.2"
  }
 },
 "nbformat": 4,
 "nbformat_minor": 4
}
